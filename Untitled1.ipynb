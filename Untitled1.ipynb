{
 "cells": [
  {
   "cell_type": "code",
   "execution_count": 1,
   "metadata": {},
   "outputs": [],
   "source": [
    "import torch"
   ]
  },
  {
   "cell_type": "code",
   "execution_count": 5,
   "metadata": {},
   "outputs": [],
   "source": [
    "import torch.nn as nn"
   ]
  },
  {
   "cell_type": "code",
   "execution_count": 6,
   "metadata": {},
   "outputs": [],
   "source": [
    "temp =- torch.randn(4, 3, 5, 2)"
   ]
  },
  {
   "cell_type": "code",
   "execution_count": 11,
   "metadata": {},
   "outputs": [],
   "source": [
    "m = nn.AdaptiveAvgPool2d((1,1))\n",
    "inputs = torch.randn(1, 64, 8, 9)\n",
    "output = m(inputs)"
   ]
  },
  {
   "cell_type": "code",
   "execution_count": 12,
   "metadata": {},
   "outputs": [
    {
     "data": {
      "text/plain": [
       "torch.Size([1, 64, 8, 9])"
      ]
     },
     "execution_count": 12,
     "metadata": {},
     "output_type": "execute_result"
    }
   ],
   "source": [
    "inputs.shape"
   ]
  },
  {
   "cell_type": "code",
   "execution_count": 13,
   "metadata": {},
   "outputs": [
    {
     "data": {
      "text/plain": [
       "torch.Size([1, 64, 1, 1])"
      ]
     },
     "execution_count": 13,
     "metadata": {},
     "output_type": "execute_result"
    }
   ],
   "source": [
    "output.shape"
   ]
  },
  {
   "cell_type": "code",
   "execution_count": 15,
   "metadata": {},
   "outputs": [
    {
     "name": "stdout",
     "output_type": "stream",
     "text": [
      "input shape torch.Size([2, 2, 7])\n",
      "tensor([[[2.3333, 4.0000, 6.0000],\n",
      "         [2.0000, 4.0000, 6.0000]],\n",
      "\n",
      "        [[2.3333, 4.0000, 6.0000],\n",
      "         [2.0000, 4.0000, 6.0000]]])\n",
      "c shape: torch.Size([2, 2, 3])\n",
      "input shape: (2, 2, 4, 4)\n",
      "tensor([[[[1.5000, 3.5000],\n",
      "          [1.5000, 3.5000]],\n",
      "\n",
      "         [[1.5000, 3.5000],\n",
      "          [1.5000, 3.5000]]],\n",
      "\n",
      "\n",
      "        [[[1.5000, 3.5000],\n",
      "          [1.5000, 3.5000]],\n",
      "\n",
      "         [[1.5000, 3.5000],\n",
      "          [1.5000, 3.5000]]]])\n",
      "output shape: torch.Size([2, 2, 2, 2])\n"
     ]
    }
   ],
   "source": [
    "import torch\n",
    "import torch.nn as nn\n",
    "import torch.nn.functional as F\n",
    "from torch.autograd import Variable\n",
    "import numpy as np\n",
    " \n",
    " \n",
    " \n",
    "input = Variable(torch.Tensor([[[1, 3, 3, 4, 5, 6, 7], [1, 2, 3, 4, 5, 6, 7]], [[1, 3, 3, 4, 5, 6, 7], [1, 2, 3, 4, 5, 6, 7]]]))\n",
    "print(\"input shape\",input.shape)\n",
    "c = F.avg_pool1d(input, kernel_size=3, stride=2)\n",
    "print(c)\n",
    "print(\"c shape:\",c.shape)\n",
    " \n",
    "# m = nn.AvgPool2d(3, stride=2)\n",
    "m = nn.AvgPool2d((2, 2), stride=(2, 2))\n",
    "input = Variable(torch.randn(20, 18, 50, 32))  # bach是20,图片size是50*31,chanel是1８(通道是1８,也就是每张图有1８个fature map)\n",
    "input = np.array([[[[1, 2, 3, 4], [1, 2, 3, 4], [1, 2, 3, 4], [1, 2, 3, 4]],\n",
    "                   [[1, 2, 3, 4], [1, 2, 3, 4], [1, 2, 3, 4], [1, 2, 3, 4]]],\n",
    "                  [[[1, 2, 3, 4], [1, 2, 3, 4], [1, 2, 3, 4], [1, 2, 3, 4]],\n",
    "                   [[1, 2, 3, 4], [1, 2, 3, 4], [1, 2, 3, 4], [1, 2, 3, 4]]]])  #size２*2*4*4\n",
    "print(\"input shape:\",input.shape)\n",
    "input = Variable(torch.FloatTensor(input))\n",
    "output = m(input)\n",
    "print(output)\n",
    "print(\"output shape:\",output.shape)#(2,2,2,2)\n"
   ]
  },
  {
   "cell_type": "code",
   "execution_count": 18,
   "metadata": {},
   "outputs": [
    {
     "data": {
      "text/plain": [
       "tensor([[[1., 3., 3., 4., 5., 6., 7.],\n",
       "         [1., 2., 3., 4., 5., 6., 7.]],\n",
       "\n",
       "        [[1., 3., 3., 4., 5., 6., 7.],\n",
       "         [1., 2., 3., 4., 5., 6., 7.]]])"
      ]
     },
     "execution_count": 18,
     "metadata": {},
     "output_type": "execute_result"
    }
   ],
   "source": [
    "Variable(torch.Tensor([[[1, 3, 3, 4, 5, 6, 7], [1, 2, 3, 4, 5, 6, 7]], [[1, 3, 3, 4, 5, 6, 7], [1, 2, 3, 4, 5, 6, 7]]]))"
   ]
  },
  {
   "cell_type": "code",
   "execution_count": 20,
   "metadata": {},
   "outputs": [
    {
     "data": {
      "text/plain": [
       "torch.Size([2, 2, 2, 2])"
      ]
     },
     "execution_count": 20,
     "metadata": {},
     "output_type": "execute_result"
    }
   ],
   "source": [
    "output.shape"
   ]
  },
  {
   "cell_type": "code",
   "execution_count": 23,
   "metadata": {},
   "outputs": [],
   "source": [
    "output = output.mean(-1)"
   ]
  },
  {
   "cell_type": "code",
   "execution_count": 25,
   "metadata": {},
   "outputs": [
    {
     "data": {
      "text/plain": [
       "tensor([[[2.5000, 2.5000],\n",
       "         [2.5000, 2.5000]],\n",
       "\n",
       "        [[2.5000, 2.5000],\n",
       "         [2.5000, 2.5000]]])"
      ]
     },
     "execution_count": 25,
     "metadata": {},
     "output_type": "execute_result"
    }
   ],
   "source": [
    "output"
   ]
  },
  {
   "cell_type": "code",
   "execution_count": null,
   "metadata": {},
   "outputs": [],
   "source": []
  }
 ],
 "metadata": {
  "kernelspec": {
   "display_name": "Python 3",
   "language": "python",
   "name": "python3"
  },
  "language_info": {
   "codemirror_mode": {
    "name": "ipython",
    "version": 3
   },
   "file_extension": ".py",
   "mimetype": "text/x-python",
   "name": "python",
   "nbconvert_exporter": "python",
   "pygments_lexer": "ipython3",
   "version": "3.6.5"
  }
 },
 "nbformat": 4,
 "nbformat_minor": 2
}
